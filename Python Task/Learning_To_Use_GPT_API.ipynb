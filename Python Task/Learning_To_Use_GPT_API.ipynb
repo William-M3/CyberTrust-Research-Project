{
 "cells": [
  {
   "cell_type": "markdown",
   "metadata": {},
   "source": [
    "# Test Code\n",
    "\n",
    "This is code I used to learn how to prompt the ChatGPT API "
   ]
  },
  {
   "cell_type": "markdown",
   "metadata": {},
   "source": [
    "# Import Required Libraries\n",
    "Import the necessary libraries, including pandas and any library required to interact with ChatGPT."
   ]
  },
  {
   "cell_type": "code",
   "execution_count": null,
   "metadata": {},
   "outputs": [],
   "source": [
    "# Import the necessary libraries\n",
    "import pandas as pd\n",
    "import openai\n",
    "\n",
    "# Set up the OpenAI API key\n",
    "openai.api_key = 'your-api-key-here'"
   ]
  },
  {
   "cell_type": "markdown",
   "metadata": {},
   "source": [
    "# Define Function to Get ChatGPT Output\n",
    "Define a function that interacts with ChatGPT API to get the output."
   ]
  },
  {
   "cell_type": "code",
   "execution_count": null,
   "metadata": {},
   "outputs": [],
   "source": [
    "def get_chatgpt_output(prompt, n=10):\n",
    "    \"\"\"\n",
    "    Function to get the output of ChatGPT multiple times.\n",
    "    \n",
    "    Parameters:\n",
    "    prompt (str): The prompt to send to ChatGPT.\n",
    "    n (int): The number of times to get the output. Default is 10.\n",
    "    \n",
    "    Returns:\n",
    "    pd.DataFrame: A DataFrame containing the outputs.\n",
    "    \"\"\"\n",
    "    responses = []\n",
    "    for _ in range(n):\n",
    "        response = openai.Completion.create(\n",
    "            engine=\"text-davinci-003\",\n",
    "            prompt=prompt,\n",
    "            max_tokens=100\n",
    "        )\n",
    "        responses.append(response.choices[0].text.strip())\n",
    "    \n",
    "    return pd.DataFrame(responses, columns=[\"ChatGPT_Output\"])\n",
    "\n",
    "# Example usage\n",
    "prompt = \"Tell me a joke.\"\n",
    "df = get_chatgpt_output(prompt)\n",
    "df"
   ]
  },
  {
   "cell_type": "markdown",
   "metadata": {},
   "source": [
    "# Generate ChatGPT Outputs\n",
    "Use a loop to call the function 10 times and store the outputs in a list."
   ]
  },
  {
   "cell_type": "code",
   "execution_count": null,
   "metadata": {},
   "outputs": [],
   "source": [
    "# Generate ChatGPT Outputs\n",
    "outputs = []\n",
    "for _ in range(10):\n",
    "    response = openai.Completion.create(\n",
    "        engine=\"text-davinci-003\",\n",
    "        prompt=\"Tell me a joke.\",\n",
    "        max_tokens=100\n",
    "    )\n",
    "    outputs.append(response.choices[0].text.strip())\n",
    "\n",
    "# Store the outputs in a DataFrame\n",
    "df = pd.DataFrame(outputs, columns=[\"ChatGPT_Output\"])\n",
    "df"
   ]
  },
  {
   "cell_type": "markdown",
   "metadata": {},
   "source": [
    "# Store Outputs in DataFrame\n",
    "Convert the list of outputs into a pandas DataFrame."
   ]
  },
  {
   "cell_type": "code",
   "execution_count": null,
   "metadata": {},
   "outputs": [],
   "source": [
    "# Store Outputs in DataFrame\n",
    "import pandas as pd\n",
    "\n",
    "# Convert the list of outputs into a pandas DataFrame\n",
    "df = pd.DataFrame(outputs, columns=[\"ChatGPT_Output\"])\n",
    "df"
   ]
  }
 ],
 "metadata": {
  "kernelspec": {
   "display_name": "Python 3",
   "language": "python",
   "name": "python3"
  },
  "language_info": {
   "name": "python",
   "version": "3.11.6"
  }
 },
 "nbformat": 4,
 "nbformat_minor": 2
}
