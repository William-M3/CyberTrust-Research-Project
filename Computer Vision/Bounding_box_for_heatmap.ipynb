{
 "cells": [
  {
   "cell_type": "markdown",
   "metadata": {},
   "source": [
    "# Bounding box heatmap for cues drawn by users\n",
    "Goal: Drawn bounding boxes looking for a Consensus between users on images\n"
   ]
  },
  {
   "cell_type": "code",
   "execution_count": null,
   "metadata": {},
   "outputs": [],
   "source": [
    "import cv2 \n",
    "import numpy as np"
   ]
  },
  {
   "cell_type": "code",
   "execution_count": null,
   "metadata": {},
   "outputs": [
    {
     "data": {
      "text/plain": [
       "-1"
      ]
     },
     "execution_count": 5,
     "metadata": {},
     "output_type": "execute_result"
    }
   ],
   "source": [
    "# Load the image\n",
    "image = cv2.imread('save.png')\n",
    "\n",
    "# Grayscale then Otsu's threshold\n",
    "gray = cv2.cvtColor(image, cv2.COLOR_BGR2GRAY)\n",
    "thresh = cv2.threshold(gray, 0, 255, cv2.THRESH_BINARY + cv2.THRESH_OTSU)[1]\n",
    "\n",
    "# Find contours\n",
    "cnts = cv2.findContours(thresh, cv2.RETR_EXTERNAL, cv2.CHAIN_APPROX_SIMPLE)\n",
    "cnts = cnts[0] if len(cnts) == 2 else cnts[1]\n",
    "for c in cnts:\n",
    "    x,y,w,h = cv2.boundingRect(c)\n",
    "    cv2.rectangle(image, (x, y), (x + w, y + h), (36,255,12), 2)\n",
    "\n",
    "cv2.imshow('thresh', thresh)\n",
    "cv2.imshow('image', image)\n",
    "cv2.waitKey()"
   ]
  },
  {
   "cell_type": "code",
   "execution_count": null,
   "metadata": {},
   "outputs": [],
   "source": [
    "import cv2\n",
    "import numpy as np\n",
    "\n",
    "# Load your image\n",
    "image = cv2.imread('save.PNG')\n",
    "\n",
    "# Convert image to grayscale\n",
    "gray = cv2.cvtColor(image, cv2.COLOR_BGR2GRAY)\n",
    "\n",
    "# Apply Otsu's thresholding\n",
    "_, thresh = cv2.threshold(gray, 0, 255, cv2.THRESH_BINARY + cv2.THRESH_OTSU)\n",
    "\n",
    "# Invert the thresholded image\n",
    "thresh = cv2.bitwise_not(thresh)\n",
    "\n",
    "# Find contours\n",
    "cnts = cv2.findContours(thresh, cv2.RETR_EXTERNAL, cv2.CHAIN_APPROX_SIMPLE)\n",
    "cnts = cnts[0] if len(cnts) == 2 else cnts[1]\n",
    "\n",
    "# Draw bounding boxes around yellow and purple areas\n",
    "for c in cnts:\n",
    "    x, y, w, h = cv2.boundingRect(c)\n",
    "    cv2.rectangle(image, (x, y), (x + w, y + h), (36, 255, 12), 2)\n",
    "\n",
    "# Display the images\n",
    "cv2.imshow('Thresholded Image', thresh)\n",
    "cv2.imshow('Bounding Box Image', image)\n",
    "cv2.waitKey(0)\n",
    "cv2.destroyAllWindows()"
   ]
  },
  {
   "cell_type": "code",
   "execution_count": null,
   "metadata": {},
   "outputs": [],
   "source": [
    "# Load your image\n",
    "image = cv2.imread('save.png')\n",
    "\n",
    "# Convert BGR to HSV\n",
    "hsv = cv2.cvtColor(image, cv2.COLOR_BGR2HSV)\n",
    "\n",
    "# Define range of yellow color in HSV\n",
    "lower_yellow = np.array([10, 100, 100])\n",
    "upper_yellow = np.array([40, 255, 255])\n",
    "\n",
    "# Threshold the HSV image to get only yellow colors\n",
    "mask = cv2.inRange(hsv, lower_yellow, upper_yellow)\n",
    "\n",
    "# Bitwise-AND mask and original image\n",
    "res = cv2.bitwise_and(image, image, mask=mask)\n",
    "\n",
    "# Display results\n",
    "cv2.imshow('Original Image', image)\n",
    "cv2.imshow('Mask', mask)\n",
    "cv2.imshow('Result', res)\n",
    "cv2.waitKey(0)\n",
    "cv2.destroyAllWindows()"
   ]
  },
  {
   "cell_type": "code",
   "execution_count": null,
   "metadata": {},
   "outputs": [],
   "source": [
    "# Load your image\n",
    "image = cv2.imread('save.PNG')\n",
    "\n",
    "# Convert BGR to HSV\n",
    "hsv = cv2.cvtColor(image, cv2.COLOR_BGR2HSV)\n",
    "\n",
    "# Define range of yellow color in HSV\n",
    "lower_yellow = np.array([10, 100, 100])\n",
    "upper_yellow = np.array([40, 255, 255])\n",
    "\n",
    "# Define range of purple color in HSV\n",
    "lower_purple = np.array([130, 50, 50])\n",
    "upper_purple = np.array([170, 255, 255])\n",
    "\n",
    "# Threshold the HSV image to get only yellow and purple colors\n",
    "mask_yellow = cv2.inRange(hsv, lower_yellow, upper_yellow)\n",
    "mask_purple = cv2.inRange(hsv, lower_purple, upper_purple)\n",
    "\n",
    "# Combine the masks\n",
    "combined_mask = cv2.bitwise_or(mask_yellow, mask_purple)\n",
    "\n",
    "# Bitwise-AND mask and original image\n",
    "res = cv2.bitwise_and(image, image, mask=combined_mask)\n",
    "\n",
    "# Display results\n",
    "cv2.imshow('Original Image', image)\n",
    "cv2.imshow('Combined Mask', combined_mask)\n",
    "cv2.imshow('Result', res)\n",
    "cv2.waitKey(0)\n",
    "cv2.destroyAllWindows()"
   ]
  },
  {
   "cell_type": "code",
   "execution_count": null,
   "metadata": {},
   "outputs": [],
   "source": [
    "\n",
    "# Load your image\n",
    "image = cv2.imread('save.PNG')\n",
    "\n",
    "# Convert BGR to HSV\n",
    "hsv = cv2.cvtColor(image, cv2.COLOR_BGR2HSV)\n",
    "# Define range of yellow color in HSV\n",
    "lower_yellow = np.array([10, 100, 100])\n",
    "upper_yellow = np.array([40, 255, 255])\n",
    "\n",
    "# Define range of purple color in HSV\n",
    "lower_purple = np.array([130, 50, 50])\n",
    "upper_purple = np.array([170, 255, 255])\n",
    "\n",
    "# Threshold the HSV image to get only yellow and purple colors\n",
    "mask_yellow = cv2.inRange(hsv, lower_yellow, upper_yellow)\n",
    "mask_purple = cv2.inRange(hsv, lower_purple, upper_purple)\n",
    "\n",
    "# Combine the masks\n",
    "combined_mask = cv2.bitwise_or(mask_yellow, mask_purple)\n",
    "\n",
    "# Find contours in the combined mask\n",
    "cnts, _ = cv2.findContours(combined_mask, cv2.RETR_EXTERNAL, cv2.CHAIN_APPROX_SIMPLE)\n",
    "\n",
    "# Draw bounding boxes around the detected contours on the original image\n",
    "for c in cnts:\n",
    "    x, y, w, h = cv2.boundingRect(c)\n",
    "    cv2.rectangle(image, (x, y), (x + w, y + h), (0, 255, 0), 2)\n",
    "\n",
    "# Display results\n",
    "cv2.imshow('Original Image with Bounding Boxes', image)\n",
    "cv2.waitKey(0)\n",
    "cv2.destroyAllWindows()\n"
   ]
  },
  {
   "cell_type": "code",
   "execution_count": null,
   "metadata": {},
   "outputs": [],
   "source": [
    "# Apply Otsu's threshold\n",
    "_, thresh = cv2.threshold(gray, 0, 255, cv2.THRESH_BINARY + cv2.THRESH_OTSU)"
   ]
  },
  {
   "cell_type": "code",
   "execution_count": null,
   "metadata": {},
   "outputs": [],
   "source": [
    "\n",
    "import cv2 as cv\n",
    "import numpy as np\n",
    " \n",
    "cap = cv.imread('49251675_Appeal to Action-Authority (1).png')\n",
    " \n",
    "# Convert BGR to HSV\n",
    "hsv = cv.cvtColor(cap, cv.COLOR_BGR2HSV)\n",
    " \n",
    "# define range of blue color in HSV\n",
    "lower_blue = np.array([110,50,50])\n",
    "upper_blue = np.array([130,255,255])\n",
    " \n",
    "# Threshold the HSV image to get only blue colors\n",
    "mask = cv.inRange(hsv, lower_blue, upper_blue)\n",
    " \n",
    "# Bitwise-AND mask and original image\n",
    "res = cv.bitwise_and(cap,cap, mask= mask)\n",
    " \n",
    "cv.imshow('frame',cap)\n",
    "cv.imshow('mask',mask)\n",
    "cv.imshow('res',res)\n",
    "\n",
    "\n",
    " \n",
    "#cv.destroyAllWindows()\n"
   ]
  }
 ],
 "metadata": {
  "kernelspec": {
   "display_name": "base",
   "language": "python",
   "name": "python3"
  },
  "language_info": {
   "codemirror_mode": {
    "name": "ipython",
    "version": 3
   },
   "file_extension": ".py",
   "mimetype": "text/x-python",
   "name": "python",
   "nbconvert_exporter": "python",
   "pygments_lexer": "ipython3",
   "version": "3.11.7"
  }
 },
 "nbformat": 4,
 "nbformat_minor": 2
}
