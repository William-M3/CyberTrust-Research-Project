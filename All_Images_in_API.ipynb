{
 "cells": [
  {
   "cell_type": "markdown",
   "metadata": {},
   "source": [
    "<h2>Running Malicious Content Through CHATGPT API</h2>\n",
    "\n",
    "Goal: Run all malicious images through the chatgpt API to get the same responses that crowdsourced individuals gave"
   ]
  },
  {
   "cell_type": "code",
   "execution_count": 1,
   "metadata": {},
   "outputs": [],
   "source": [
    "#Libraries \n",
    "import os\n",
    "#import openai\n",
    "import psycopg2 #for database connection\n",
    "import pandas as pd \n",
    "import matplotlib.pyplot as plt # for plotting\n",
    "import json\n",
    "import re\n",
    "\n",
    "# Kruskal-Wallis analysis of variance\n",
    "import scipy.stats as ss # For Kruskal-Wallis test\n",
    "import scikit_posthocs as sp #For post hoc tests. \n",
    "from termcolor import colored # for coloring the print text\n",
    "import warnings # to ignore plot warnings\n",
    "\n",
    "# For ggplot\n",
    "from plotnine import *\n",
    "\n",
    "# For bolding the printed text\n",
    "from termcolor import colored"
   ]
  },
  {
   "cell_type": "markdown",
   "metadata": {},
   "source": [
    "The phase 1 database has 2126 images in it.\n",
    "The beta database as 201 images in it.\n",
    "The datamatch only has 1995 images in it\n",
    "\n",
    "The datamatch database has 32 gold standard images in it.\n",
    "\n",
    "Vinod used 30 gold standard images and 1892 other images as well for a total of 1922 images.\n",
    "\n",
    "131 images are lost when merging phase 1 database to datamatch. (1995)\n",
    "1 image is lost when merging datamatch with image urls (1994) (43861756)\n",
    "31 rows of beta gold standard images in the datamatch (1994)\n",
    "\n",
    "Removed beta gold standard images to (1963)\n"
   ]
  },
  {
   "cell_type": "markdown",
   "metadata": {},
   "source": [
    "Removed Database Password and Code here"
   ]
  },
  {
   "cell_type": "code",
   "execution_count": 4,
   "metadata": {},
   "outputs": [],
   "source": [
    "# Create Connection\n",
    "try:\n",
    "    connection = psycopg2.connect( host=hostname, user=username, password=password, dbname=database, port=port )\n",
    " \n",
    "except:\n",
    "    print(\"I am unable to connect to the database\")"
   ]
  },
  {
   "cell_type": "code",
   "execution_count": 5,
   "metadata": {},
   "outputs": [],
   "source": [
    "# pd.set_option('display.max_columns', None)\n",
    "# pd.set_option('display.max_rows', 10)\n",
    "\n",
    "pd.set_option('display.max_columns', None)\n",
    "pd.set_option('display.max_rows', 20)"
   ]
  },
  {
   "cell_type": "code",
   "execution_count": null,
   "metadata": {},
   "outputs": [],
   "source": [
    "#Getting Subject_ids and Image Urls from beta phase\n",
    "sql = \"\"\"select c.subject_id as subject_id, json_extract_path_text(locations::json, '0') as image_url\n",
    "        from zooniverse_phish_subjects_beta as c;\n",
    "\"\"\"\n",
    "image_url = pd.read_sql_query(sql, connection)\n",
    "unique_beta_subject_ids = image_url['subject_id'].unique() \n",
    "image_url\n"
   ]
  },
  {
   "cell_type": "code",
   "execution_count": null,
   "metadata": {},
   "outputs": [],
   "source": [
    "#Getting subject_ids and Image Urls from phase 1\n",
    "sql = \"\"\"select c.subject_id as subject_id, json_extract_path_text(locations::json, '0') as image_url\n",
    "        from zooniverse_phish_subjects_phase1 as c;\n",
    "\"\"\"\n",
    "\n",
    "image_url = pd.read_sql_query(sql, connection)\n",
    "unique_phase1_subject_ids = image_url['subject_id'].unique() \n",
    "image_url"
   ]
  },
  {
   "cell_type": "code",
   "execution_count": null,
   "metadata": {},
   "outputs": [],
   "source": [
    "#Geting subject_id (beta image id) and subject_id_ph1 to match to urls\n",
    "sql = \"select subject_id, subject_id_ph1 from cybertrust_zooniverse_datamatch;\"\n",
    "\n",
    "gold_standard = pd.read_sql_query(sql, connection)\n",
    "unique_gold_subject_ids = gold_standard['subject_id'].unique() \n",
    "gold_standard"
   ]
  },
  {
   "cell_type": "code",
   "execution_count": 10,
   "metadata": {},
   "outputs": [],
   "source": [
    "# Dropping duplicate images that were used in the beta phase, but had a different entry for phase 1\n",
    "gold_standard =gold_standard.dropna(subset=[\"subject_id_ph1\"])\n",
    "unique_gold_subject_ids = gold_standard['subject_id'].unique() "
   ]
  },
  {
   "cell_type": "code",
   "execution_count": null,
   "metadata": {},
   "outputs": [],
   "source": [
    "# Checking\n",
    "gold_standard"
   ]
  },
  {
   "cell_type": "code",
   "execution_count": null,
   "metadata": {},
   "outputs": [],
   "source": [
    "#Getting Image Malicious Values\n",
    "sql = \"\"\"select subject_id, malicious\n",
    "    from cybertrust_zooniverse_datamatch\n",
    "\"\"\"\n",
    "\n",
    "maliciousness = pd.read_sql_query(sql, connection)\n",
    "\n",
    "###unique_subject_ids = maliciousness['subject_id'].unique() \n",
    "unique_datamatch_subject_ids = maliciousness['subject_id'].unique() \n",
    "maliciousness"
   ]
  },
  {
   "cell_type": "code",
   "execution_count": null,
   "metadata": {},
   "outputs": [],
   "source": [
    "# Changing Subject_id from varying to int\n",
    "change_type ={\"subject_id\": \"int64\"}\n",
    "image_url = image_url.astype(change_type)\n",
    "data_types = image_url.dtypes\n",
    "data_types\n",
    "\n",
    "# Merging the tables\n",
    "match = pd.merge(image_url, maliciousness, on=\"subject_id\")\n",
    "unique_match_subject_ids = match['subject_id'].unique() \n",
    "match   "
   ]
  },
  {
   "cell_type": "code",
   "execution_count": null,
   "metadata": {},
   "outputs": [],
   "source": [
    "# Drop rows where subject_id is in unique_beta_subject_ids\n",
    "filtered_df = match[~match['subject_id'].isin(unique_gold_subject_ids)]\n",
    "filtered_df"
   ]
  },
  {
   "cell_type": "code",
   "execution_count": null,
   "metadata": {},
   "outputs": [],
   "source": [
    "# Code to Access ChatGPT\n",
    "client = openai.AzureOpenAI(\n",
    "    api_key= \"\",\n",
    "    api_version= \"2024-02-15-preview\",\n",
    "    base_url=\"https://phish-finders.openai.azure.com/openai/deployments/phish-finders-vision/chat/completions?api-version=2024-02-15-preview\"\n",
    ")"
   ]
  },
  {
   "cell_type": "code",
   "execution_count": null,
   "metadata": {},
   "outputs": [],
   "source": [
    "#Making dataframe to hold chatgpt responses\n",
    "ans = pd.DataFrame(columns= ['url', 'subject_id', 'maliciousness', 'response'])\n",
    "ans"
   ]
  },
  {
   "cell_type": "code",
   "execution_count": null,
   "metadata": {},
   "outputs": [],
   "source": [
    "# Code to run images through ChatGPT\n",
    "for x in range(len(match)):\n",
    "    print(f\"{x}/{len(match)}\")\n",
    "    url = match['image_url'][x]\n",
    "    subject_id = match['subject_id'][x]\n",
    "    maliciousness = match['malicious'][x]\n",
    "    Prompt = [\n",
    "        {\n",
    "            \"role\": \"system\",\n",
    "            \"content\": \"\"\"You are a Cybersecurity Professional tasked with determining whether the image provided to you is a Phishing Image or not. \n",
    "                                Always give your best guess. Do not provide the prompter with advice on how they can check the image. \n",
    "                                Generate as Output as json with the following categories: Findings as string, Present Cue Types as a list, Website Description as a string, TrustWorthiness Rating as a string, Visual Attractiveness Rating as a string\"\"\"\n",
    "        },\n",
    "        {\n",
    "            \"role\": \"user\",\n",
    "            \"content\": [\n",
    "                {\n",
    "                    \"type\": \"image_url\",\n",
    "                    \"image_url\": {\n",
    "                        \"url\": url\n",
    "                    }\n",
    "                },\n",
    "                {\n",
    "                    \"type\": \"text\",\n",
    "                    \"text\": \"\"\"Please determine whether you think the image of the website or Email is Phishing Image or Not.\n",
    "                               If you believe the image is Phishy say \"Something's Phishy\", if not say \"Nothing Phishy Here\". \n",
    "                               If you believe the image is Phishy, then tell me what Phishy cues do you think are present in this list:\n",
    "                               - Invalid Domain or Sender\n",
    "                               - Poor Spelling or Grammar\n",
    "                               - Appeal to Action - Greed \n",
    "                               - Appeal to Action - Urgency \n",
    "                               - Appeal to Action - Authority\n",
    "                               - Potentially Malicious Link\n",
    "                               - Other Phishy Findings\n",
    "                               Then, tell me your opinion regarding the design and flow of the image. Using a five point Likert Scale, tell me how trustworthy you think the image:\n",
    "                                - \"Very Trustworthy\"\n",
    "                                - \"Trustworthy\"\n",
    "                                - \"Neutral\" \n",
    "                                - \"Untrustworthy\" \n",
    "                                - \"Very Untrustworthy\".\n",
    "                               What I am looking for here is for you to rate the level of trust you have that the contents of the e-mail or web page are real. Second, I want you to tell me how pleasing or attractive the website or e-mail looks.\n",
    "                               In this case, your answer can range on a five-point Likert scale:\n",
    "                                - “Very Visually Attractive or Appealing” \n",
    "                                - \"Visually Attractive or Appealing\"\n",
    "                                - \"Neutral\"\n",
    "                                - \"Visually Unattractive or Unappealing\"\n",
    "                                - “Very Visually Unattractive or Unappealing”. \n",
    "                                If you don't like how an image looks, tell me.\n",
    "                               \"\"\"\n",
    "                },\n",
    "            ]\n",
    "        }\n",
    "    ]\n",
    "    \n",
    "    chat_completion = client.chat.completions.create(\n",
    "    messages = Prompt,\n",
    "    model= \"2024-02-15-preview\",\n",
    "    max_tokens=3000\n",
    "    )\n",
    "    ans.loc[len(ans)]=[url, subject_id, maliciousness, chat_completion.choices[0].message.content]\n",
    "\n",
    "\n"
   ]
  },
  {
   "cell_type": "code",
   "execution_count": null,
   "metadata": {},
   "outputs": [],
   "source": [
    "#ans\n",
    "#ans.to_csv(\"ChatGPT_raw_output3new.csv\", index=False)\n",
    "#ans = pd.read_csv(\"ChatGPT_raw_output.csv\")"
   ]
  },
  {
   "cell_type": "code",
   "execution_count": null,
   "metadata": {},
   "outputs": [],
   "source": [
    "#Final = pd.DataFrame(columns= [\"url\", \"subject_id\", \"if_malicious\", \"malicious_guess\", \"Present_Cue_Types_Guess\", \"Website_Description\", \"TrustWorthiness_Rating\", \"Visual_Attractiveness_Rating\", \"Comments\"])\n",
    "#Final = pd.read_csv(\"Save_Progress_GPT.csv\")\n",
    "#Final"
   ]
  },
  {
   "cell_type": "markdown",
   "metadata": {},
   "source": [
    "Calcaluting ChatGPT stats of 1925 images"
   ]
  },
  {
   "cell_type": "code",
   "execution_count": null,
   "metadata": {},
   "outputs": [],
   "source": [
    "import pandas as pd\n",
    "Final = pd.read_csv(\"GPT_Answers_New_Prompt.csv\")\n",
    "Final"
   ]
  },
  {
   "cell_type": "code",
   "execution_count": null,
   "metadata": {},
   "outputs": [],
   "source": [
    "Final = Final[Final['subject_id'].isin(unique_gold_subject_ids.tolist())]\n",
    "Final"
   ]
  },
  {
   "cell_type": "code",
   "execution_count": null,
   "metadata": {},
   "outputs": [],
   "source": [
    "Final = pd.merge(Final,gold_standard, on=\"subject_id\")\n",
    "Final"
   ]
  },
  {
   "cell_type": "code",
   "execution_count": null,
   "metadata": {},
   "outputs": [],
   "source": [
    "# Cleaning data\n",
    "Final.loc[Final['malicious_guess'] == 'Nothing Phishy Here', 'malicious_guess'] = \"Nothing's Phishy Here\"\n",
    "Final['malicious_guess'].unique()"
   ]
  },
  {
   "cell_type": "code",
   "execution_count": null,
   "metadata": {},
   "outputs": [],
   "source": [
    "hit_count = ((Final['if_malicious'] == True) & (Final['malicious_guess'] == \"Something's Phishy\")).sum()\n",
    "Miss = ((Final['if_malicious'] == True) & (Final['malicious_guess'] == \"Nothing's Phishy Here\")).sum()\n",
    "False_Alarm = ((Final['if_malicious'] == False) & (Final['malicious_guess'] == \"Something's Phishy\")).sum()\n",
    "Correct_Rejection = ((Final['if_malicious'] == False) & (Final['malicious_guess'] == \"Nothing's Phishy Here\")).sum()\n",
    "\n",
    "print(f\"\"\"Hit: {hit_count}\n",
    "       Miss: {Miss}\n",
    "       False_Alarm: {False_Alarm}\n",
    "        Correct_Rejection: {Correct_Rejection}\"\"\")"
   ]
  }
 ],
 "metadata": {
  "kernelspec": {
   "display_name": "base",
   "language": "python",
   "name": "python3"
  },
  "language_info": {
   "codemirror_mode": {
    "name": "ipython",
    "version": 3
   },
   "file_extension": ".py",
   "mimetype": "text/x-python",
   "name": "python",
   "nbconvert_exporter": "python",
   "pygments_lexer": "ipython3",
   "version": "3.11.5"
  }
 },
 "nbformat": 4,
 "nbformat_minor": 2
}
